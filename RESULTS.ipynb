{
 "cells": [
  {
   "cell_type": "markdown",
   "metadata": {},
   "source": [
    "# *Docking* molecular com o *PDBbind coreset* 2013\n",
    "\n",
    "## Table of contents\n",
    "> [Local optimization scores](https://github.com/caiocrocha/pdbbind-coreset-2013/blob/master/local_opt/Local%20optimization%20scores.ipynb)    \n",
    "> [RESCORE](https://github.com/caiocrocha/pdbbind-coreset-2013/blob/master/rescore/RESCORE.ipynb)\n",
    "\n",
    "## Link para o artigo original (PDF)\n",
    "[A influência dos parâmetros no *docking* com o QuickVina 2](https://github.com/caiocrocha/COVID-19/blob/master/pdbbind-coreset-2013/A%20influência%20dos%20parâmetros%20no%20docking%20com%20o%20QuickVina%202.pdf)\n",
    "\n",
    "## Justificativa\n",
    "O *docking* molecular é um método computacional amplamente utilizado na pesquisa por novos medicamentos, que consiste em \"atracar\" um candidato a fármaco, referido como ligante, na proteína patogênica alvo. Nesse contexto, destacam-se as funções de pontuação, as quais são algoritmos de *docking* que visam quantificar a afinidade de ligação entre esses dois compostos. Com isso, essas funções exploram as possibilidades conformacionais do ligante no sítio de ligação e produzem diferentes poses (conformações) desse ligante, as quais são atribuídas um valor de energia e ordenadas de melhor a pior.\n",
    "\n",
    "O estudo apresentado nesse notebook refere aos resultados obtidos de experimentos que utilizaram como programa de *docking* o **QuickVina 2**, empregando-se diferentes parâmetros disponíveis em cima do banco de dados **PDBbind coreset** (versão 2016). Os arquivos estruturais das moléculas, arquivos de saída dos programas e arquivos com valores de energia e RMSD podem ser encontrados na pasta [pdbbind-2019.chemflow](https://github.com/caiocrocha/COVID-19/blob/master/pdbbind_v2013_docking/pdbbind-2019.chemflow), enquanto os arquivos originais estão disponíveis na pasta compactada [pdbbind_v2013_core_set.tar.gz](https://github.com/caiocrocha/pdbbind-coreset-2013/blob/master/pdbbind_v2013_core_set.tar.gz).    \n",
    "Para descompactá-la, use `tar -xzf pdbbind_v2013_core_set.tar.gz`.    \n",
    "De um total de 195 complexos proteína-ligante e 1770 simulações, são analisadas relações e influência dos parêmetros utilizados na qualidade dos resultados."
   ]
  },
  {
   "cell_type": "markdown",
   "metadata": {},
   "source": [
    "## Leitura dos dados"
   ]
  },
  {
   "cell_type": "code",
   "execution_count": 1,
   "metadata": {},
   "outputs": [],
   "source": [
    "import pandas as pd\n",
    "import seaborn as sns\n",
    "import matplotlib.pyplot as plt\n",
    "%matplotlib inline"
   ]
  },
  {
   "cell_type": "code",
   "execution_count": 2,
   "metadata": {},
   "outputs": [
    {
     "data": {
      "text/html": [
       "<div>\n",
       "<style scoped>\n",
       "    .dataframe tbody tr th:only-of-type {\n",
       "        vertical-align: middle;\n",
       "    }\n",
       "\n",
       "    .dataframe tbody tr th {\n",
       "        vertical-align: top;\n",
       "    }\n",
       "\n",
       "    .dataframe thead th {\n",
       "        text-align: right;\n",
       "    }\n",
       "</style>\n",
       "<table border=\"1\" class=\"dataframe\">\n",
       "  <thead>\n",
       "    <tr style=\"text-align: right;\">\n",
       "      <th></th>\n",
       "      <th>Complex</th>\n",
       "      <th>Initial Pose</th>\n",
       "      <th>Pose</th>\n",
       "      <th>Program</th>\n",
       "      <th>Exhaustiveness</th>\n",
       "      <th>Run</th>\n",
       "      <th>Energy</th>\n",
       "      <th>RMSD</th>\n",
       "    </tr>\n",
       "  </thead>\n",
       "  <tbody>\n",
       "    <tr>\n",
       "      <th>6565</th>\n",
       "      <td>3udh</td>\n",
       "      <td>crystal</td>\n",
       "      <td>6</td>\n",
       "      <td>qvina</td>\n",
       "      <td>8</td>\n",
       "      <td>1</td>\n",
       "      <td>-4.8</td>\n",
       "      <td>0.0</td>\n",
       "    </tr>\n",
       "    <tr>\n",
       "      <th>6563</th>\n",
       "      <td>3udh</td>\n",
       "      <td>crystal</td>\n",
       "      <td>4</td>\n",
       "      <td>qvina</td>\n",
       "      <td>8</td>\n",
       "      <td>1</td>\n",
       "      <td>-6.0</td>\n",
       "      <td>0.0</td>\n",
       "    </tr>\n",
       "    <tr>\n",
       "      <th>6578</th>\n",
       "      <td>3udh</td>\n",
       "      <td>crystal</td>\n",
       "      <td>5</td>\n",
       "      <td>qvina</td>\n",
       "      <td>8</td>\n",
       "      <td>3</td>\n",
       "      <td>-5.7</td>\n",
       "      <td>0.0</td>\n",
       "    </tr>\n",
       "    <tr>\n",
       "      <th>6577</th>\n",
       "      <td>3udh</td>\n",
       "      <td>crystal</td>\n",
       "      <td>4</td>\n",
       "      <td>qvina</td>\n",
       "      <td>8</td>\n",
       "      <td>3</td>\n",
       "      <td>-6.0</td>\n",
       "      <td>0.0</td>\n",
       "    </tr>\n",
       "    <tr>\n",
       "      <th>6575</th>\n",
       "      <td>3udh</td>\n",
       "      <td>crystal</td>\n",
       "      <td>2</td>\n",
       "      <td>qvina</td>\n",
       "      <td>8</td>\n",
       "      <td>3</td>\n",
       "      <td>-6.9</td>\n",
       "      <td>0.0</td>\n",
       "    </tr>\n",
       "  </tbody>\n",
       "</table>\n",
       "</div>"
      ],
      "text/plain": [
       "     Complex Initial Pose  Pose Program  Exhaustiveness  Run  Energy  RMSD\n",
       "6565    3udh      crystal     6   qvina               8    1    -4.8   0.0\n",
       "6563    3udh      crystal     4   qvina               8    1    -6.0   0.0\n",
       "6578    3udh      crystal     5   qvina               8    3    -5.7   0.0\n",
       "6577    3udh      crystal     4   qvina               8    3    -6.0   0.0\n",
       "6575    3udh      crystal     2   qvina               8    3    -6.9   0.0"
      ]
     },
     "execution_count": 2,
     "metadata": {},
     "output_type": "execute_result"
    }
   ],
   "source": [
    "df = pd.read_csv('pdbbind_v2013_docking.csv.gz', compression='gzip')\n",
    "df.sort_values('RMSD').head()"
   ]
  },
  {
   "cell_type": "code",
   "execution_count": 3,
   "metadata": {},
   "outputs": [
    {
     "name": "stdout",
     "output_type": "stream",
     "text": [
      "\\begin{tabular}{lllrlrrrr}\n",
      "\\toprule\n",
      "{} & Complex & Initial Pose &  Pose & Program &  Exhaustiveness &  Run &  Energy &  RMSD \\\\\n",
      "\\midrule\n",
      "0 &    10gs &      crystal &     1 &   qvina &               8 &    1 &  -7.900 & 2.502 \\\\\n",
      "1 &    10gs &      crystal &     2 &   qvina &               8 &    1 &  -7.000 & 1.646 \\\\\n",
      "2 &    10gs &      crystal &     3 &   qvina &               8 &    1 &  -6.900 & 4.382 \\\\\n",
      "3 &    10gs &      crystal &     4 &   qvina &               8 &    1 &  -6.900 & 4.231 \\\\\n",
      "4 &    10gs &      crystal &     5 &   qvina &               8 &    1 &  -6.800 & 3.990 \\\\\n",
      "\\bottomrule\n",
      "\\end{tabular}\n",
      "\n"
     ]
    }
   ],
   "source": [
    "print(df.head().to_latex(float_format='%.3f'))"
   ]
  },
  {
   "cell_type": "code",
   "execution_count": 4,
   "metadata": {},
   "outputs": [],
   "source": [
    "import os"
   ]
  },
  {
   "cell_type": "code",
   "execution_count": 5,
   "metadata": {},
   "outputs": [],
   "source": [
    "if not os.path.isdir('images'):\n",
    "    os.mkdir('images')"
   ]
  },
  {
   "cell_type": "markdown",
   "metadata": {},
   "source": [
    "## Distribuição dos dados"
   ]
  },
  {
   "cell_type": "markdown",
   "metadata": {},
   "source": [
    "Não há correlação entre a energia e o RMSD"
   ]
  },
  {
   "cell_type": "code",
   "execution_count": 6,
   "metadata": {},
   "outputs": [
    {
     "data": {
      "text/plain": [
       "<seaborn.axisgrid.JointGrid at 0x7f0f3863db10>"
      ]
     },
     "execution_count": 6,
     "metadata": {},
     "output_type": "execute_result"
    },
    {
     "data": {
      "image/png": "[encoded data removed]",
      "text/plain": [
       "<Figure size 432x432 with 3 Axes>"
      ]
     },
     "metadata": {
      "needs_background": "light"
     },
     "output_type": "display_data"
    }
   ],
   "source": [
    "# Gráfico de correlação entre a energia e o RMSD\n",
    "sns.jointplot(data=df,x='Energy',y='RMSD')"
   ]
  },
  {
   "cell_type": "code",
   "execution_count": 7,
   "metadata": {},
   "outputs": [
    {
     "data": {
      "text/plain": [
       "<matplotlib.axes._subplots.AxesSubplot at 0x7f0f3759b050>"
      ]
     },
     "execution_count": 7,
     "metadata": {},
     "output_type": "execute_result"
    },
    {
     "data": {
      "image/png": "[encoded data removed]",
      "text/plain": [
       "<Figure size 432x288 with 1 Axes>"
      ]
     },
     "metadata": {
      "needs_background": "light"
     },
     "output_type": "display_data"
    }
   ],
   "source": [
    "# Histograma da distribuição dos valores de energia\n",
    "sns.distplot(df['Energy'],kde=False)"
   ]
  },
  {
   "cell_type": "markdown",
   "metadata": {},
   "source": [
    "Nota-se, pelo histograma abaixo, que o programa produziu um número considerável de poses na faixa aceitével de RMSD, ou seja, RMSD < 2.0 Å."
   ]
  },
  {
   "cell_type": "code",
   "execution_count": 8,
   "metadata": {},
   "outputs": [
    {
     "data": {
      "text/plain": [
       "<matplotlib.axes._subplots.AxesSubplot at 0x7f0f37364c90>"
      ]
     },
     "execution_count": 8,
     "metadata": {},
     "output_type": "execute_result"
    },
    {
     "data": {
      "image/png": "[encoded data removed]",
      "text/plain": [
       "<Figure size 432x288 with 1 Axes>"
      ]
     },
     "metadata": {
      "needs_background": "light"
     },
     "output_type": "display_data"
    }
   ],
   "source": [
    "# Histograma da distribuição dos valores de RMSD      \n",
    "sns.distplot(df['RMSD'],kde=False)"
   ]
  },
  {
   "cell_type": "markdown",
   "metadata": {},
   "source": [
    "O \"gráfico de violino\" mostra que a média dos valores de RMSD é aproximadamente 2.0 Å"
   ]
  },
  {
   "cell_type": "code",
   "execution_count": 9,
   "metadata": {},
   "outputs": [
    {
     "data": {
      "text/plain": [
       "<seaborn.axisgrid.FacetGrid at 0x7f0f372207d0>"
      ]
     },
     "execution_count": 9,
     "metadata": {},
     "output_type": "execute_result"
    },
    {
     "data": {
      "image/png": "[encoded data removed]",
      "text/plain": [
       "<Figure size 432x216 with 2 Axes>"
      ]
     },
     "metadata": {
      "needs_background": "light"
     },
     "output_type": "display_data"
    }
   ],
   "source": [
    "g = sns.FacetGrid(df,col='Exhaustiveness')\n",
    "g.map(sns.violinplot,'RMSD',order=[8,32])"
   ]
  },
  {
   "cell_type": "markdown",
   "metadata": {},
   "source": [
    "O gráfico cumulativo mostra a porcentagem de poses com RMSD menor que o valor correspondente de RMSD no eixo x."
   ]
  },
  {
   "cell_type": "code",
   "execution_count": 10,
   "metadata": {},
   "outputs": [
    {
     "name": "stdout",
     "output_type": "stream",
     "text": [
      "Porcentagem de dockings com RMSD abaixo do limite predefinido de 2.0 Ångströms: 51.7563%\n"
     ]
    },
    {
     "data": {
      "image/png": "[encoded data removed]",
      "text/plain": [
       "<Figure size 432x288 with 1 Axes>"
      ]
     },
     "metadata": {
      "needs_background": "light"
     },
     "output_type": "display_data"
    }
   ],
   "source": [
    "# Gráfico cumulativo do RMSD    \n",
    "\n",
    "kwargs = {'cumulative': True}\n",
    "fig, ax = plt.subplots()\n",
    "sns.distplot(df['RMSD'], hist_kws=kwargs, kde_kws=kwargs)\n",
    "kde_x, kde_y = ax.lines[0].get_data()\n",
    "ax.fill_between(kde_x, kde_y, where=(kde_x < 2) & (kde_x > 0), interpolate=True, color='lightblue')\n",
    "plt.axvline(x=2, linestyle='--', label='Threshold', color='orangered')\n",
    "plt.xlim(left=0)\n",
    "plt.legend()\n",
    "plt.title('RMSD cumulative plot')\n",
    "plt.savefig('images/threshold.pdf')\n",
    "print('Porcentagem de dockings com RMSD abaixo do limite predefinido de 2.0 Ångströms: {:.4f}%'.format(\n",
    "    df.query('RMSD < 2.0')['RMSD'].count()/len(df['RMSD']) * 100))"
   ]
  },
  {
   "cell_type": "markdown",
   "metadata": {},
   "source": [
    "## Qualidade"
   ]
  },
  {
   "cell_type": "code",
   "execution_count": 11,
   "metadata": {},
   "outputs": [],
   "source": [
    "df['Quality']='bad'\n",
    "df.loc[df['RMSD'] <= 2.5, 'Quality'] = 'medium'\n",
    "df.loc[df['RMSD'] <= 1.5, 'Quality'] = 'good'"
   ]
  },
  {
   "cell_type": "markdown",
   "metadata": {},
   "source": [
    "O aumento da exaustividade não influenciou em uma maior qualidade das poses, o que contradiz o resultado esperado, pois se espera que, com o aumento do RMSD, diminuam-se as chances de aparecerem falsos positivos. Já a triplicata dos resultados vai ao encontro do esperado, pois diferentes réplicas dos dockings resultam em diferentes resultados, devido à natureza estocástica das funções de pontuação, com diferentes distribuições das poses em boas, médias e ruins."
   ]
  },
  {
   "cell_type": "code",
   "execution_count": 12,
   "metadata": {},
   "outputs": [
    {
     "data": {
      "text/plain": [
       "<seaborn.axisgrid.FacetGrid at 0x7f0f3702ce90>"
      ]
     },
     "execution_count": 12,
     "metadata": {},
     "output_type": "execute_result"
    },
    {
     "data": {
      "image/png": "[encoded data removed]",
      "text/plain": [
       "<Figure size 762.375x360 with 2 Axes>"
      ]
     },
     "metadata": {
      "needs_background": "light"
     },
     "output_type": "display_data"
    }
   ],
   "source": [
    "sns.catplot(kind='count',data=df,x='Quality',col='Exhaustiveness',hue='Run',palette='hls')"
   ]
  },
  {
   "cell_type": "markdown",
   "metadata": {},
   "source": [
    "## Taxas de sucesso"
   ]
  },
  {
   "cell_type": "markdown",
   "metadata": {},
   "source": [
    "### Taxas de sucesso levando todas as poses em consideração"
   ]
  },
  {
   "cell_type": "code",
   "execution_count": 13,
   "metadata": {},
   "outputs": [
    {
     "data": {
      "text/plain": [
       "Complex  Program  Exhaustiveness  Run\n",
       "10gs     qvina    8               1       True\n",
       "                                  2      False\n",
       "                                  3      False\n",
       "                  32              1      False\n",
       "                                  2      False\n",
       "                                         ...  \n",
       "4tmn     qvina    8               2      False\n",
       "                                  3       True\n",
       "                  32              1      False\n",
       "                                  2       True\n",
       "                                  3       True\n",
       "Name: Success, Length: 1170, dtype: bool"
      ]
     },
     "execution_count": 13,
     "metadata": {},
     "output_type": "execute_result"
    }
   ],
   "source": [
    "df['Success'] = False\n",
    "df.loc[df['RMSD'] < 2.0, 'Success'] = True\n",
    "df.groupby(['Complex','Program','Exhaustiveness','Run'])['Success'].any()"
   ]
  },
  {
   "cell_type": "code",
   "execution_count": 14,
   "metadata": {},
   "outputs": [
    {
     "data": {
      "text/html": [
       "<div>\n",
       "<style scoped>\n",
       "    .dataframe tbody tr th:only-of-type {\n",
       "        vertical-align: middle;\n",
       "    }\n",
       "\n",
       "    .dataframe tbody tr th {\n",
       "        vertical-align: top;\n",
       "    }\n",
       "\n",
       "    .dataframe thead th {\n",
       "        text-align: right;\n",
       "    }\n",
       "</style>\n",
       "<table border=\"1\" class=\"dataframe\">\n",
       "  <thead>\n",
       "    <tr style=\"text-align: right;\">\n",
       "      <th></th>\n",
       "      <th>Exhaustiveness</th>\n",
       "      <th>Success Rate</th>\n",
       "    </tr>\n",
       "  </thead>\n",
       "  <tbody>\n",
       "    <tr>\n",
       "      <th>0</th>\n",
       "      <td>8</td>\n",
       "      <td>0.834188</td>\n",
       "    </tr>\n",
       "    <tr>\n",
       "      <th>1</th>\n",
       "      <td>32</td>\n",
       "      <td>0.834188</td>\n",
       "    </tr>\n",
       "  </tbody>\n",
       "</table>\n",
       "</div>"
      ],
      "text/plain": [
       "   Exhaustiveness  Success Rate\n",
       "0               8      0.834188\n",
       "1              32      0.834188"
      ]
     },
     "execution_count": 14,
     "metadata": {},
     "output_type": "execute_result"
    }
   ],
   "source": [
    "success_rates_list = []\n",
    "for ex in df['Exhaustiveness'].unique():\n",
    "    success_count = df.query('Exhaustiveness == @ex').groupby(['Complex','Program','Exhaustiveness','Run'])['Success'].any().value_counts()\n",
    "    success_rate_by_ex = success_count[True]/success_count.sum()\n",
    "    success_rates_list.append({'Exhaustiveness': ex, 'Success Rate': success_rate_by_ex})\n",
    "df_success_rates = pd.DataFrame(success_rates_list)\n",
    "df_success_rates"
   ]
  },
  {
   "cell_type": "code",
   "execution_count": 15,
   "metadata": {},
   "outputs": [
    {
     "name": "stdout",
     "output_type": "stream",
     "text": [
      "\\begin{tabular}{rr}\n",
      "\\toprule\n",
      " Exhaustiveness &  Success Rate \\\\\n",
      "\\midrule\n",
      "              8 &         0.834 \\\\\n",
      "             32 &         0.834 \\\\\n",
      "\\bottomrule\n",
      "\\end{tabular}\n",
      "\n"
     ]
    }
   ],
   "source": [
    "print(df_success_rates.to_latex(index=False,float_format='%.3f'))"
   ]
  },
  {
   "cell_type": "markdown",
   "metadata": {},
   "source": [
    "### Taxas de sucesso por execução"
   ]
  },
  {
   "cell_type": "code",
   "execution_count": 16,
   "metadata": {},
   "outputs": [],
   "source": [
    "def get_success_by_run(data):\n",
    "    for i in data['Run'].unique():\n",
    "        success_by_run = data.query('Run == @i').groupby(['Complex','Program','Exhaustiveness']).any()['Success'].value_counts()\n",
    "        yield success_by_run[True]/success_by_run.sum()"
   ]
  },
  {
   "cell_type": "code",
   "execution_count": 17,
   "metadata": {},
   "outputs": [],
   "source": [
    "success_rates_list = []\n",
    "for ex in df['Exhaustiveness'].unique():\n",
    "    success_by_run = list(get_success_by_run(df.query('Exhaustiveness == @ex')))\n",
    "    for i, success_rate in enumerate(success_by_run):\n",
    "        success_rates_list.append({'Exhaustiveness': ex, 'Run': i+1, 'Success Rate': success_rate})\n",
    "    overall = sum(success_by_run)/len(success_by_run)   # como o número de amostras é o mesmo para todas as \n",
    "                                                        # execuções, a porcentagem de sucesso geral pode ser\n",
    "                                                        # calcula pela média aritmética simples\n",
    "    success_rates_list.append({'Exhaustiveness': ex, 'Run': 'Overall', 'Success Rate': overall})\n",
    "success_rates_by_run = pd.DataFrame(success_rates_list)"
   ]
  },
  {
   "cell_type": "code",
   "execution_count": 18,
   "metadata": {},
   "outputs": [
    {
     "data": {
      "text/html": [
       "<style  type=\"text/css\" >\n",
       "</style><table id=\"T_30eb47c0_c25a_11ea_9ffb_b4749f5a37fa\" ><caption>Success Rate</caption><thead>    <tr>        <th class=\"index_name level0\" >Run</th>        <th class=\"col_heading level0 col0\" >1</th>        <th class=\"col_heading level0 col1\" >2</th>        <th class=\"col_heading level0 col2\" >3</th>        <th class=\"col_heading level0 col3\" >Overall</th>    </tr>    <tr>        <th class=\"index_name level0\" >Exhaustiveness</th>        <th class=\"blank\" ></th>        <th class=\"blank\" ></th>        <th class=\"blank\" ></th>        <th class=\"blank\" ></th>    </tr></thead><tbody>\n",
       "                <tr>\n",
       "                        <th id=\"T_30eb47c0_c25a_11ea_9ffb_b4749f5a37falevel0_row0\" class=\"row_heading level0 row0\" >8</th>\n",
       "                        <td id=\"T_30eb47c0_c25a_11ea_9ffb_b4749f5a37farow0_col0\" class=\"data row0 col0\" >0.841026</td>\n",
       "                        <td id=\"T_30eb47c0_c25a_11ea_9ffb_b4749f5a37farow0_col1\" class=\"data row0 col1\" >0.820513</td>\n",
       "                        <td id=\"T_30eb47c0_c25a_11ea_9ffb_b4749f5a37farow0_col2\" class=\"data row0 col2\" >0.841026</td>\n",
       "                        <td id=\"T_30eb47c0_c25a_11ea_9ffb_b4749f5a37farow0_col3\" class=\"data row0 col3\" >0.834188</td>\n",
       "            </tr>\n",
       "            <tr>\n",
       "                        <th id=\"T_30eb47c0_c25a_11ea_9ffb_b4749f5a37falevel0_row1\" class=\"row_heading level0 row1\" >32</th>\n",
       "                        <td id=\"T_30eb47c0_c25a_11ea_9ffb_b4749f5a37farow1_col0\" class=\"data row1 col0\" >0.830769</td>\n",
       "                        <td id=\"T_30eb47c0_c25a_11ea_9ffb_b4749f5a37farow1_col1\" class=\"data row1 col1\" >0.810256</td>\n",
       "                        <td id=\"T_30eb47c0_c25a_11ea_9ffb_b4749f5a37farow1_col2\" class=\"data row1 col2\" >0.861538</td>\n",
       "                        <td id=\"T_30eb47c0_c25a_11ea_9ffb_b4749f5a37farow1_col3\" class=\"data row1 col3\" >0.834188</td>\n",
       "            </tr>\n",
       "    </tbody></table>"
      ],
      "text/plain": [
       "<pandas.io.formats.style.Styler at 0x7f0f36eb0c50>"
      ]
     },
     "execution_count": 18,
     "metadata": {},
     "output_type": "execute_result"
    }
   ],
   "source": [
    "success_rates_by_run.pivot_table(values='Success Rate',index='Exhaustiveness',columns='Run').style.set_caption('Success Rate')"
   ]
  },
  {
   "cell_type": "code",
   "execution_count": 19,
   "metadata": {},
   "outputs": [
    {
     "name": "stdout",
     "output_type": "stream",
     "text": [
      "\\begin{tabular}{llr}\n",
      "\\toprule\n",
      "   &         &  Success Rate \\\\\n",
      "Exhaustiveness & Run &               \\\\\n",
      "\\midrule\n",
      "8  & 1 &         0.841 \\\\\n",
      "   & 2 &         0.821 \\\\\n",
      "   & 3 &         0.841 \\\\\n",
      "   & Overall &         0.834 \\\\\n",
      "32 & 1 &         0.831 \\\\\n",
      "   & 2 &         0.810 \\\\\n",
      "   & 3 &         0.862 \\\\\n",
      "   & Overall &         0.834 \\\\\n",
      "\\bottomrule\n",
      "\\end{tabular}\n",
      "\n"
     ]
    }
   ],
   "source": [
    "print(success_rates_by_run.set_index(['Exhaustiveness','Run']).to_latex(float_format='%.3f'))"
   ]
  },
  {
   "cell_type": "code",
   "execution_count": 20,
   "metadata": {},
   "outputs": [],
   "source": [
    "# Small code to display values on top of each point\n",
    "def display_values(g):\n",
    "    for p in g.patches:\n",
    "        g.annotate(\"%.4f\" % p.get_height(), (p.get_x() + p.get_width() / 2., p.get_height()),\n",
    "            ha='center', va='center', fontsize=11, color='gray', xytext=(0, 7.5), textcoords='offset points')"
   ]
  },
  {
   "cell_type": "code",
   "execution_count": 21,
   "metadata": {
    "scrolled": true
   },
   "outputs": [
    {
     "data": {
      "image/png": "[encoded data removed]",
      "text/plain": [
       "<Figure size 720x288 with 1 Axes>"
      ]
     },
     "metadata": {
      "needs_background": "light"
     },
     "output_type": "display_data"
    }
   ],
   "source": [
    "fig, ax = plt.subplots(figsize=(10,4))\n",
    "g = sns.barplot(data=success_rates_by_run,x='Run',y='Success Rate',hue='Exhaustiveness',ax=ax)\n",
    "display_values(g)\n",
    "plt.legend(title='Exhaustiveness',loc='center left', bbox_to_anchor=(1.0, 0.5))\n",
    "plt.ylim(0,1)\n",
    "plt.title('Success Rates by Run')\n",
    "plt.savefig('images/success_by_run.pdf')"
   ]
  },
  {
   "cell_type": "markdown",
   "metadata": {},
   "source": [
    "### Taxa de sucesso cumulativa"
   ]
  },
  {
   "cell_type": "code",
   "execution_count": 22,
   "metadata": {},
   "outputs": [],
   "source": [
    "def get_success_by_pose(data, nposes):\n",
    "    for i in range(1, nposes+1):\n",
    "        success_by_pose = data.sort_values('Pose').groupby(['Complex','Program','Exhaustiveness','Run']).head(i).groupby(['Complex','Program','Exhaustiveness','Run'])['Success'].any().value_counts()\n",
    "        yield success_by_pose[True]/success_by_pose.sum()"
   ]
  },
  {
   "cell_type": "code",
   "execution_count": 23,
   "metadata": {},
   "outputs": [],
   "source": [
    "success_rates_list = []\n",
    "for ex in df['Exhaustiveness'].unique():\n",
    "    for i, success_rate in enumerate(get_success_by_pose(df.query('Exhaustiveness == @ex'), 10)):\n",
    "        success_rates_list.append({'Exhaustiveness': ex, 'Number of Poses': i+1, 'Success Rate': success_rate})\n",
    "success_rates_by_pose = pd.DataFrame(success_rates_list)"
   ]
  },
  {
   "cell_type": "code",
   "execution_count": 24,
   "metadata": {},
   "outputs": [
    {
     "data": {
      "text/html": [
       "<style  type=\"text/css\" >\n",
       "</style><table id=\"T_31885dbc_c25a_11ea_9ffb_b4749f5a37fa\" ><caption>Success Rate</caption><thead>    <tr>        <th class=\"index_name level0\" >Number of Poses</th>        <th class=\"col_heading level0 col0\" >1</th>        <th class=\"col_heading level0 col1\" >2</th>        <th class=\"col_heading level0 col2\" >3</th>        <th class=\"col_heading level0 col3\" >4</th>        <th class=\"col_heading level0 col4\" >5</th>        <th class=\"col_heading level0 col5\" >6</th>        <th class=\"col_heading level0 col6\" >7</th>        <th class=\"col_heading level0 col7\" >8</th>        <th class=\"col_heading level0 col8\" >9</th>        <th class=\"col_heading level0 col9\" >10</th>    </tr>    <tr>        <th class=\"index_name level0\" >Exhaustiveness</th>        <th class=\"blank\" ></th>        <th class=\"blank\" ></th>        <th class=\"blank\" ></th>        <th class=\"blank\" ></th>        <th class=\"blank\" ></th>        <th class=\"blank\" ></th>        <th class=\"blank\" ></th>        <th class=\"blank\" ></th>        <th class=\"blank\" ></th>        <th class=\"blank\" ></th>    </tr></thead><tbody>\n",
       "                <tr>\n",
       "                        <th id=\"T_31885dbc_c25a_11ea_9ffb_b4749f5a37falevel0_row0\" class=\"row_heading level0 row0\" >8</th>\n",
       "                        <td id=\"T_31885dbc_c25a_11ea_9ffb_b4749f5a37farow0_col0\" class=\"data row0 col0\" >0.699145</td>\n",
       "                        <td id=\"T_31885dbc_c25a_11ea_9ffb_b4749f5a37farow0_col1\" class=\"data row0 col1\" >0.765812</td>\n",
       "                        <td id=\"T_31885dbc_c25a_11ea_9ffb_b4749f5a37farow0_col2\" class=\"data row0 col2\" >0.786325</td>\n",
       "                        <td id=\"T_31885dbc_c25a_11ea_9ffb_b4749f5a37farow0_col3\" class=\"data row0 col3\" >0.801709</td>\n",
       "                        <td id=\"T_31885dbc_c25a_11ea_9ffb_b4749f5a37farow0_col4\" class=\"data row0 col4\" >0.808547</td>\n",
       "                        <td id=\"T_31885dbc_c25a_11ea_9ffb_b4749f5a37farow0_col5\" class=\"data row0 col5\" >0.815385</td>\n",
       "                        <td id=\"T_31885dbc_c25a_11ea_9ffb_b4749f5a37farow0_col6\" class=\"data row0 col6\" >0.822222</td>\n",
       "                        <td id=\"T_31885dbc_c25a_11ea_9ffb_b4749f5a37farow0_col7\" class=\"data row0 col7\" >0.829060</td>\n",
       "                        <td id=\"T_31885dbc_c25a_11ea_9ffb_b4749f5a37farow0_col8\" class=\"data row0 col8\" >0.834188</td>\n",
       "                        <td id=\"T_31885dbc_c25a_11ea_9ffb_b4749f5a37farow0_col9\" class=\"data row0 col9\" >0.834188</td>\n",
       "            </tr>\n",
       "            <tr>\n",
       "                        <th id=\"T_31885dbc_c25a_11ea_9ffb_b4749f5a37falevel0_row1\" class=\"row_heading level0 row1\" >32</th>\n",
       "                        <td id=\"T_31885dbc_c25a_11ea_9ffb_b4749f5a37farow1_col0\" class=\"data row1 col0\" >0.707692</td>\n",
       "                        <td id=\"T_31885dbc_c25a_11ea_9ffb_b4749f5a37farow1_col1\" class=\"data row1 col1\" >0.782906</td>\n",
       "                        <td id=\"T_31885dbc_c25a_11ea_9ffb_b4749f5a37farow1_col2\" class=\"data row1 col2\" >0.796581</td>\n",
       "                        <td id=\"T_31885dbc_c25a_11ea_9ffb_b4749f5a37farow1_col3\" class=\"data row1 col3\" >0.810256</td>\n",
       "                        <td id=\"T_31885dbc_c25a_11ea_9ffb_b4749f5a37farow1_col4\" class=\"data row1 col4\" >0.815385</td>\n",
       "                        <td id=\"T_31885dbc_c25a_11ea_9ffb_b4749f5a37farow1_col5\" class=\"data row1 col5\" >0.820513</td>\n",
       "                        <td id=\"T_31885dbc_c25a_11ea_9ffb_b4749f5a37farow1_col6\" class=\"data row1 col6\" >0.829060</td>\n",
       "                        <td id=\"T_31885dbc_c25a_11ea_9ffb_b4749f5a37farow1_col7\" class=\"data row1 col7\" >0.832479</td>\n",
       "                        <td id=\"T_31885dbc_c25a_11ea_9ffb_b4749f5a37farow1_col8\" class=\"data row1 col8\" >0.834188</td>\n",
       "                        <td id=\"T_31885dbc_c25a_11ea_9ffb_b4749f5a37farow1_col9\" class=\"data row1 col9\" >0.834188</td>\n",
       "            </tr>\n",
       "    </tbody></table>"
      ],
      "text/plain": [
       "<pandas.io.formats.style.Styler at 0x7f0f36a5e310>"
      ]
     },
     "execution_count": 24,
     "metadata": {},
     "output_type": "execute_result"
    }
   ],
   "source": [
    "success_rates_by_pose.pivot_table(values='Success Rate',index='Exhaustiveness',columns='Number of Poses').style.set_caption('Success Rate')"
   ]
  },
  {
   "cell_type": "markdown",
   "metadata": {},
   "source": [
    "Observa-se que a taxa de sucesso aumenta quando são consideradas mais poses dentre os resultados, pois maior é a probabilidade de haver pelo menos uma pose com RMSD < 2.0 dentro de cada grupo de docking."
   ]
  },
  {
   "cell_type": "code",
   "execution_count": 25,
   "metadata": {},
   "outputs": [
    {
     "data": {
      "image/png": "[encoded data removed]",
      "text/plain": [
       "<Figure size 626x360 with 1 Axes>"
      ]
     },
     "metadata": {
      "needs_background": "light"
     },
     "output_type": "display_data"
    }
   ],
   "source": [
    "sns.catplot(data=success_rates_by_pose,x='Number of Poses',y='Success Rate',hue='Exhaustiveness',kind='point',height=5,aspect=1.5)\n",
    "plt.title('Cumulative Success Rate')\n",
    "plt.savefig('images/cumulative-success-rate.pdf')"
   ]
  },
  {
   "cell_type": "code",
   "execution_count": 26,
   "metadata": {},
   "outputs": [
    {
     "name": "stdout",
     "output_type": "stream",
     "text": [
      "\\begin{tabular}{llr}\n",
      "\\toprule\n",
      "   &   &  Success Rate \\\\\n",
      "Exhaustiveness & Number of Poses &               \\\\\n",
      "\\midrule\n",
      "8  & 1 &         0.699 \\\\\n",
      "   & 2 &         0.766 \\\\\n",
      "   & 3 &         0.786 \\\\\n",
      "32 & 1 &         0.708 \\\\\n",
      "   & 2 &         0.783 \\\\\n",
      "   & 3 &         0.797 \\\\\n",
      "\\bottomrule\n",
      "\\end{tabular}\n",
      "\n"
     ]
    }
   ],
   "source": [
    "# Taxa de sucesso levando as três primeiras poses em consideração\n",
    "print(success_rates_by_pose.groupby('Exhaustiveness').head(3).set_index(['Exhaustiveness','Number of Poses']).to_latex(float_format='%.3f'))"
   ]
  },
  {
   "cell_type": "markdown",
   "metadata": {},
   "source": [
    "## Curva ROC"
   ]
  },
  {
   "cell_type": "markdown",
   "metadata": {},
   "source": [
    "* Verdadeiros positivos (TP)\n",
    "* Falsos positivos (FP)\n",
    "* Verdadeiros negativos (TN)\n",
    "* Falsos negativos (FN)\n",
    "#### Para desenhar a curva ROC, utilizaram-se as seguintes métricas:"
   ]
  },
  {
   "cell_type": "code",
   "execution_count": 27,
   "metadata": {},
   "outputs": [
    {
     "data": {
      "text/html": [
       "<div>\n",
       "<style scoped>\n",
       "    .dataframe tbody tr th:only-of-type {\n",
       "        vertical-align: middle;\n",
       "    }\n",
       "\n",
       "    .dataframe tbody tr th {\n",
       "        vertical-align: top;\n",
       "    }\n",
       "\n",
       "    .dataframe thead th {\n",
       "        text-align: right;\n",
       "    }\n",
       "</style>\n",
       "<table border=\"1\" class=\"dataframe\">\n",
       "  <thead>\n",
       "    <tr style=\"text-align: right;\">\n",
       "      <th>Classification</th>\n",
       "      <th>TP</th>\n",
       "      <th>FP</th>\n",
       "      <th>TN</th>\n",
       "      <th>FN</th>\n",
       "    </tr>\n",
       "  </thead>\n",
       "  <tbody>\n",
       "    <tr>\n",
       "      <th>Pose</th>\n",
       "      <td>[1, 2, 3]</td>\n",
       "      <td>[1, 2, 3]</td>\n",
       "      <td>&gt; 3</td>\n",
       "      <td>&gt; 3</td>\n",
       "    </tr>\n",
       "    <tr>\n",
       "      <th>RMSD</th>\n",
       "      <td>&lt; 2.0</td>\n",
       "      <td>&gt;= 2.0</td>\n",
       "      <td>&lt; 2.0</td>\n",
       "      <td>&gt;= 2.0</td>\n",
       "    </tr>\n",
       "  </tbody>\n",
       "</table>\n",
       "</div>"
      ],
      "text/plain": [
       "Classification         TP         FP     TN      FN\n",
       "Pose            [1, 2, 3]  [1, 2, 3]    > 3     > 3\n",
       "RMSD                < 2.0     >= 2.0  < 2.0  >= 2.0"
      ]
     },
     "execution_count": 27,
     "metadata": {},
     "output_type": "execute_result"
    }
   ],
   "source": [
    "df_classes = pd.DataFrame([{'Classification': 'TP', 'Pose': '[1, 2, 3]', 'RMSD': '< 2.0'}, \n",
    "             {'Classification': 'FP', 'Pose': '[1, 2, 3]', 'RMSD': '>= 2.0'},\n",
    "             {'Classification': 'TN', 'Pose': '> 3', 'RMSD': '< 2.0'},\n",
    "             {'Classification': 'FN', 'Pose': '> 3', 'RMSD': '>= 2.0'}]).set_index('Classification').T\n",
    "df_classes"
   ]
  },
  {
   "cell_type": "code",
   "execution_count": 28,
   "metadata": {},
   "outputs": [],
   "source": [
    "df_classes.loc['Pose'] = df_classes.loc['Pose'].apply(lambda x: f'${x}$') # add math notation to LaTeX\n",
    "df_classes.loc['RMSD'] = df_classes.loc['RMSD'].apply(lambda x: f'${x}$') # add math notation to LaTeX"
   ]
  },
  {
   "cell_type": "code",
   "execution_count": 29,
   "metadata": {},
   "outputs": [
    {
     "name": "stdout",
     "output_type": "stream",
     "text": [
      "\\begin{tabular}{lllll}\n",
      "\\toprule\n",
      "Classification &           TP &           FP &       TN &        FN \\\\\n",
      "\\midrule\n",
      "Pose &  $[1, 2, 3]$ &  $[1, 2, 3]$ &    $> 3$ &     $> 3$ \\\\\n",
      "RMSD &      $< 2.0$ &     $>= 2.0$ &  $< 2.0$ &  $>= 2.0$ \\\\\n",
      "\\bottomrule\n",
      "\\end{tabular}\n",
      "\n"
     ]
    }
   ],
   "source": [
    "print(df_classes.to_latex(escape=False))"
   ]
  },
  {
   "cell_type": "code",
   "execution_count": 30,
   "metadata": {},
   "outputs": [],
   "source": [
    "from sklearn.metrics import roc_curve, auc"
   ]
  },
  {
   "cell_type": "code",
   "execution_count": 31,
   "metadata": {},
   "outputs": [],
   "source": [
    "def ROC_rates(df):\n",
    "    fpr, tpr, thresholds = roc_curve(y_true=df['Success'].to_numpy(), y_score=df['Energy'].to_numpy())\n",
    "    return fpr, tpr, thresholds"
   ]
  },
  {
   "cell_type": "code",
   "execution_count": 32,
   "metadata": {},
   "outputs": [
    {
     "data": {
      "image/png": "[encoded data removed]",
      "text/plain": [
       "<Figure size 432x288 with 1 Axes>"
      ]
     },
     "metadata": {
      "needs_background": "light"
     },
     "output_type": "display_data"
    }
   ],
   "source": [
    "auc_list = []\n",
    "fig, ax = plt.subplots()\n",
    "for i in df['Exhaustiveness'].unique():\n",
    "    df_best = df.query('Exhaustiveness == @i and Pose <= 3').groupby(['Complex','Initial Pose','Program','Run']\n",
    "                ).apply(lambda x: x.sort_values('RMSD').head(1)).reset_index(drop=True) # manter melhor pose \n",
    "                                                                                        # (menor RMSD) \n",
    "                                                                                        # das três primeiras \n",
    "                                                                                        # poses em cada grupo\n",
    "    fpr, tpr, thresholds = ROC_rates(df_best)\n",
    "    auc_i = auc(fpr, tpr)\n",
    "    auc_list.append({'Exhaustiveness': i, 'AUC': auc_i})\n",
    "    ax.plot(fpr, tpr, label=f'{int(i):>2d} - AUC {auc_i:>.3f}')\n",
    "ax.plot([0,1], [0,1], linestyle='--')\n",
    "ax.set(xlim=[0.0,1.0], ylim=[0.0,1.05], xlabel='False Positive Rate', ylabel='True Positive Rate', title='ROC Curve')\n",
    "plt.legend(title='Exhaustiveness', loc='lower right', prop={'family': 'monospace'})\n",
    "plt.savefig('images/roc-curve.pdf')"
   ]
  },
  {
   "cell_type": "code",
   "execution_count": 33,
   "metadata": {},
   "outputs": [
    {
     "data": {
      "text/html": [
       "<div>\n",
       "<style scoped>\n",
       "    .dataframe tbody tr th:only-of-type {\n",
       "        vertical-align: middle;\n",
       "    }\n",
       "\n",
       "    .dataframe tbody tr th {\n",
       "        vertical-align: top;\n",
       "    }\n",
       "\n",
       "    .dataframe thead th {\n",
       "        text-align: right;\n",
       "    }\n",
       "</style>\n",
       "<table border=\"1\" class=\"dataframe\">\n",
       "  <thead>\n",
       "    <tr style=\"text-align: right;\">\n",
       "      <th></th>\n",
       "      <th>Exhaustiveness</th>\n",
       "      <th>AUC</th>\n",
       "    </tr>\n",
       "  </thead>\n",
       "  <tbody>\n",
       "    <tr>\n",
       "      <th>0</th>\n",
       "      <td>8</td>\n",
       "      <td>0.469826</td>\n",
       "    </tr>\n",
       "    <tr>\n",
       "      <th>1</th>\n",
       "      <td>32</td>\n",
       "      <td>0.449796</td>\n",
       "    </tr>\n",
       "  </tbody>\n",
       "</table>\n",
       "</div>"
      ],
      "text/plain": [
       "   Exhaustiveness       AUC\n",
       "0               8  0.469826\n",
       "1              32  0.449796"
      ]
     },
     "execution_count": 33,
     "metadata": {},
     "output_type": "execute_result"
    }
   ],
   "source": [
    "df_auc = pd.DataFrame(auc_list)\n",
    "df_auc"
   ]
  },
  {
   "cell_type": "markdown",
   "metadata": {},
   "source": [
    "Apesar das taxas de sucesso elevadas, a curva ROC/AUC mostram que a função de pontuação não conseguiu discriminar entre resultados positivos e negativos."
   ]
  },
  {
   "cell_type": "code",
   "execution_count": 34,
   "metadata": {},
   "outputs": [
    {
     "name": "stdout",
     "output_type": "stream",
     "text": [
      "\\begin{tabular}{rr}\n",
      "\\toprule\n",
      " Exhaustiveness &   AUC \\\\\n",
      "\\midrule\n",
      "              8 & 0.470 \\\\\n",
      "             32 & 0.450 \\\\\n",
      "\\bottomrule\n",
      "\\end{tabular}\n",
      "\n"
     ]
    }
   ],
   "source": [
    "print(df_auc.to_latex(index=False, float_format='%.3f'))"
   ]
  },
  {
   "cell_type": "markdown",
   "metadata": {},
   "source": [
    "## Informações suplementares"
   ]
  },
  {
   "cell_type": "markdown",
   "metadata": {},
   "source": [
    "### Taxa de sucesso cumulativa separada por exaustividade e execução"
   ]
  },
  {
   "cell_type": "code",
   "execution_count": 35,
   "metadata": {},
   "outputs": [],
   "source": [
    "success_rates_list = []\n",
    "for ex in df['Exhaustiveness'].unique():\n",
    "    for run in df['Run'].unique():\n",
    "        for i, success_rate in enumerate(get_success_by_pose(df.query('Exhaustiveness == @ex and Run == @run'), 10)):\n",
    "            success_rates_list.append({'Exhaustiveness': ex, 'Run': run, 'Number of Poses': i+1, 'Success Rate': success_rate})\n",
    "success_rates_data = pd.DataFrame(success_rates_list)"
   ]
  },
  {
   "cell_type": "code",
   "execution_count": 36,
   "metadata": {},
   "outputs": [
    {
     "data": {
      "text/html": [
       "<style  type=\"text/css\" >\n",
       "</style><table id=\"T_3562060e_c25a_11ea_9ffb_b4749f5a37fa\" ><caption>Success Rate</caption><thead>    <tr>        <th class=\"blank\" ></th>        <th class=\"index_name level0\" >Number of Poses</th>        <th class=\"col_heading level0 col0\" >1</th>        <th class=\"col_heading level0 col1\" >2</th>        <th class=\"col_heading level0 col2\" >3</th>        <th class=\"col_heading level0 col3\" >4</th>        <th class=\"col_heading level0 col4\" >5</th>        <th class=\"col_heading level0 col5\" >6</th>        <th class=\"col_heading level0 col6\" >7</th>        <th class=\"col_heading level0 col7\" >8</th>        <th class=\"col_heading level0 col8\" >9</th>        <th class=\"col_heading level0 col9\" >10</th>    </tr>    <tr>        <th class=\"index_name level0\" >Exhaustiveness</th>        <th class=\"index_name level1\" >Run</th>        <th class=\"blank\" ></th>        <th class=\"blank\" ></th>        <th class=\"blank\" ></th>        <th class=\"blank\" ></th>        <th class=\"blank\" ></th>        <th class=\"blank\" ></th>        <th class=\"blank\" ></th>        <th class=\"blank\" ></th>        <th class=\"blank\" ></th>        <th class=\"blank\" ></th>    </tr></thead><tbody>\n",
       "                <tr>\n",
       "                        <th id=\"T_3562060e_c25a_11ea_9ffb_b4749f5a37falevel0_row0\" class=\"row_heading level0 row0\" rowspan=3>8</th>\n",
       "                        <th id=\"T_3562060e_c25a_11ea_9ffb_b4749f5a37falevel1_row0\" class=\"row_heading level1 row0\" >1</th>\n",
       "                        <td id=\"T_3562060e_c25a_11ea_9ffb_b4749f5a37farow0_col0\" class=\"data row0 col0\" >0.692308</td>\n",
       "                        <td id=\"T_3562060e_c25a_11ea_9ffb_b4749f5a37farow0_col1\" class=\"data row0 col1\" >0.758974</td>\n",
       "                        <td id=\"T_3562060e_c25a_11ea_9ffb_b4749f5a37farow0_col2\" class=\"data row0 col2\" >0.784615</td>\n",
       "                        <td id=\"T_3562060e_c25a_11ea_9ffb_b4749f5a37farow0_col3\" class=\"data row0 col3\" >0.794872</td>\n",
       "                        <td id=\"T_3562060e_c25a_11ea_9ffb_b4749f5a37farow0_col4\" class=\"data row0 col4\" >0.800000</td>\n",
       "                        <td id=\"T_3562060e_c25a_11ea_9ffb_b4749f5a37farow0_col5\" class=\"data row0 col5\" >0.805128</td>\n",
       "                        <td id=\"T_3562060e_c25a_11ea_9ffb_b4749f5a37farow0_col6\" class=\"data row0 col6\" >0.820513</td>\n",
       "                        <td id=\"T_3562060e_c25a_11ea_9ffb_b4749f5a37farow0_col7\" class=\"data row0 col7\" >0.830769</td>\n",
       "                        <td id=\"T_3562060e_c25a_11ea_9ffb_b4749f5a37farow0_col8\" class=\"data row0 col8\" >0.841026</td>\n",
       "                        <td id=\"T_3562060e_c25a_11ea_9ffb_b4749f5a37farow0_col9\" class=\"data row0 col9\" >0.841026</td>\n",
       "            </tr>\n",
       "            <tr>\n",
       "                                <th id=\"T_3562060e_c25a_11ea_9ffb_b4749f5a37falevel1_row1\" class=\"row_heading level1 row1\" >2</th>\n",
       "                        <td id=\"T_3562060e_c25a_11ea_9ffb_b4749f5a37farow1_col0\" class=\"data row1 col0\" >0.702564</td>\n",
       "                        <td id=\"T_3562060e_c25a_11ea_9ffb_b4749f5a37farow1_col1\" class=\"data row1 col1\" >0.753846</td>\n",
       "                        <td id=\"T_3562060e_c25a_11ea_9ffb_b4749f5a37farow1_col2\" class=\"data row1 col2\" >0.764103</td>\n",
       "                        <td id=\"T_3562060e_c25a_11ea_9ffb_b4749f5a37farow1_col3\" class=\"data row1 col3\" >0.789744</td>\n",
       "                        <td id=\"T_3562060e_c25a_11ea_9ffb_b4749f5a37farow1_col4\" class=\"data row1 col4\" >0.805128</td>\n",
       "                        <td id=\"T_3562060e_c25a_11ea_9ffb_b4749f5a37farow1_col5\" class=\"data row1 col5\" >0.810256</td>\n",
       "                        <td id=\"T_3562060e_c25a_11ea_9ffb_b4749f5a37farow1_col6\" class=\"data row1 col6\" >0.815385</td>\n",
       "                        <td id=\"T_3562060e_c25a_11ea_9ffb_b4749f5a37farow1_col7\" class=\"data row1 col7\" >0.815385</td>\n",
       "                        <td id=\"T_3562060e_c25a_11ea_9ffb_b4749f5a37farow1_col8\" class=\"data row1 col8\" >0.820513</td>\n",
       "                        <td id=\"T_3562060e_c25a_11ea_9ffb_b4749f5a37farow1_col9\" class=\"data row1 col9\" >0.820513</td>\n",
       "            </tr>\n",
       "            <tr>\n",
       "                                <th id=\"T_3562060e_c25a_11ea_9ffb_b4749f5a37falevel1_row2\" class=\"row_heading level1 row2\" >3</th>\n",
       "                        <td id=\"T_3562060e_c25a_11ea_9ffb_b4749f5a37farow2_col0\" class=\"data row2 col0\" >0.702564</td>\n",
       "                        <td id=\"T_3562060e_c25a_11ea_9ffb_b4749f5a37farow2_col1\" class=\"data row2 col1\" >0.784615</td>\n",
       "                        <td id=\"T_3562060e_c25a_11ea_9ffb_b4749f5a37farow2_col2\" class=\"data row2 col2\" >0.810256</td>\n",
       "                        <td id=\"T_3562060e_c25a_11ea_9ffb_b4749f5a37farow2_col3\" class=\"data row2 col3\" >0.820513</td>\n",
       "                        <td id=\"T_3562060e_c25a_11ea_9ffb_b4749f5a37farow2_col4\" class=\"data row2 col4\" >0.820513</td>\n",
       "                        <td id=\"T_3562060e_c25a_11ea_9ffb_b4749f5a37farow2_col5\" class=\"data row2 col5\" >0.830769</td>\n",
       "                        <td id=\"T_3562060e_c25a_11ea_9ffb_b4749f5a37farow2_col6\" class=\"data row2 col6\" >0.830769</td>\n",
       "                        <td id=\"T_3562060e_c25a_11ea_9ffb_b4749f5a37farow2_col7\" class=\"data row2 col7\" >0.841026</td>\n",
       "                        <td id=\"T_3562060e_c25a_11ea_9ffb_b4749f5a37farow2_col8\" class=\"data row2 col8\" >0.841026</td>\n",
       "                        <td id=\"T_3562060e_c25a_11ea_9ffb_b4749f5a37farow2_col9\" class=\"data row2 col9\" >0.841026</td>\n",
       "            </tr>\n",
       "            <tr>\n",
       "                        <th id=\"T_3562060e_c25a_11ea_9ffb_b4749f5a37falevel0_row3\" class=\"row_heading level0 row3\" rowspan=3>32</th>\n",
       "                        <th id=\"T_3562060e_c25a_11ea_9ffb_b4749f5a37falevel1_row3\" class=\"row_heading level1 row3\" >1</th>\n",
       "                        <td id=\"T_3562060e_c25a_11ea_9ffb_b4749f5a37farow3_col0\" class=\"data row3 col0\" >0.707692</td>\n",
       "                        <td id=\"T_3562060e_c25a_11ea_9ffb_b4749f5a37farow3_col1\" class=\"data row3 col1\" >0.794872</td>\n",
       "                        <td id=\"T_3562060e_c25a_11ea_9ffb_b4749f5a37farow3_col2\" class=\"data row3 col2\" >0.800000</td>\n",
       "                        <td id=\"T_3562060e_c25a_11ea_9ffb_b4749f5a37farow3_col3\" class=\"data row3 col3\" >0.810256</td>\n",
       "                        <td id=\"T_3562060e_c25a_11ea_9ffb_b4749f5a37farow3_col4\" class=\"data row3 col4\" >0.815385</td>\n",
       "                        <td id=\"T_3562060e_c25a_11ea_9ffb_b4749f5a37farow3_col5\" class=\"data row3 col5\" >0.820513</td>\n",
       "                        <td id=\"T_3562060e_c25a_11ea_9ffb_b4749f5a37farow3_col6\" class=\"data row3 col6\" >0.825641</td>\n",
       "                        <td id=\"T_3562060e_c25a_11ea_9ffb_b4749f5a37farow3_col7\" class=\"data row3 col7\" >0.830769</td>\n",
       "                        <td id=\"T_3562060e_c25a_11ea_9ffb_b4749f5a37farow3_col8\" class=\"data row3 col8\" >0.830769</td>\n",
       "                        <td id=\"T_3562060e_c25a_11ea_9ffb_b4749f5a37farow3_col9\" class=\"data row3 col9\" >0.830769</td>\n",
       "            </tr>\n",
       "            <tr>\n",
       "                                <th id=\"T_3562060e_c25a_11ea_9ffb_b4749f5a37falevel1_row4\" class=\"row_heading level1 row4\" >2</th>\n",
       "                        <td id=\"T_3562060e_c25a_11ea_9ffb_b4749f5a37farow4_col0\" class=\"data row4 col0\" >0.682051</td>\n",
       "                        <td id=\"T_3562060e_c25a_11ea_9ffb_b4749f5a37farow4_col1\" class=\"data row4 col1\" >0.748718</td>\n",
       "                        <td id=\"T_3562060e_c25a_11ea_9ffb_b4749f5a37farow4_col2\" class=\"data row4 col2\" >0.764103</td>\n",
       "                        <td id=\"T_3562060e_c25a_11ea_9ffb_b4749f5a37farow4_col3\" class=\"data row4 col3\" >0.779487</td>\n",
       "                        <td id=\"T_3562060e_c25a_11ea_9ffb_b4749f5a37farow4_col4\" class=\"data row4 col4\" >0.779487</td>\n",
       "                        <td id=\"T_3562060e_c25a_11ea_9ffb_b4749f5a37farow4_col5\" class=\"data row4 col5\" >0.789744</td>\n",
       "                        <td id=\"T_3562060e_c25a_11ea_9ffb_b4749f5a37farow4_col6\" class=\"data row4 col6\" >0.810256</td>\n",
       "                        <td id=\"T_3562060e_c25a_11ea_9ffb_b4749f5a37farow4_col7\" class=\"data row4 col7\" >0.810256</td>\n",
       "                        <td id=\"T_3562060e_c25a_11ea_9ffb_b4749f5a37farow4_col8\" class=\"data row4 col8\" >0.810256</td>\n",
       "                        <td id=\"T_3562060e_c25a_11ea_9ffb_b4749f5a37farow4_col9\" class=\"data row4 col9\" >0.810256</td>\n",
       "            </tr>\n",
       "            <tr>\n",
       "                                <th id=\"T_3562060e_c25a_11ea_9ffb_b4749f5a37falevel1_row5\" class=\"row_heading level1 row5\" >3</th>\n",
       "                        <td id=\"T_3562060e_c25a_11ea_9ffb_b4749f5a37farow5_col0\" class=\"data row5 col0\" >0.733333</td>\n",
       "                        <td id=\"T_3562060e_c25a_11ea_9ffb_b4749f5a37farow5_col1\" class=\"data row5 col1\" >0.805128</td>\n",
       "                        <td id=\"T_3562060e_c25a_11ea_9ffb_b4749f5a37farow5_col2\" class=\"data row5 col2\" >0.825641</td>\n",
       "                        <td id=\"T_3562060e_c25a_11ea_9ffb_b4749f5a37farow5_col3\" class=\"data row5 col3\" >0.841026</td>\n",
       "                        <td id=\"T_3562060e_c25a_11ea_9ffb_b4749f5a37farow5_col4\" class=\"data row5 col4\" >0.851282</td>\n",
       "                        <td id=\"T_3562060e_c25a_11ea_9ffb_b4749f5a37farow5_col5\" class=\"data row5 col5\" >0.851282</td>\n",
       "                        <td id=\"T_3562060e_c25a_11ea_9ffb_b4749f5a37farow5_col6\" class=\"data row5 col6\" >0.851282</td>\n",
       "                        <td id=\"T_3562060e_c25a_11ea_9ffb_b4749f5a37farow5_col7\" class=\"data row5 col7\" >0.856410</td>\n",
       "                        <td id=\"T_3562060e_c25a_11ea_9ffb_b4749f5a37farow5_col8\" class=\"data row5 col8\" >0.861538</td>\n",
       "                        <td id=\"T_3562060e_c25a_11ea_9ffb_b4749f5a37farow5_col9\" class=\"data row5 col9\" >0.861538</td>\n",
       "            </tr>\n",
       "    </tbody></table>"
      ],
      "text/plain": [
       "<pandas.io.formats.style.Styler at 0x7f0f3696f990>"
      ]
     },
     "execution_count": 36,
     "metadata": {},
     "output_type": "execute_result"
    }
   ],
   "source": [
    "success_rates_data.pivot_table(values='Success Rate',index=['Exhaustiveness','Run'],columns='Number of Poses').style.set_caption('Success Rate')"
   ]
  },
  {
   "cell_type": "code",
   "execution_count": null,
   "metadata": {},
   "outputs": [],
   "source": []
  }
 ],
 "metadata": {
  "kernelspec": {
   "display_name": "Python 3",
   "language": "python",
   "name": "python3"
  },
  "language_info": {
   "codemirror_mode": {
    "name": "ipython",
    "version": 3
   },
   "file_extension": ".py",
   "mimetype": "text/x-python",
   "name": "python",
   "nbconvert_exporter": "python",
   "pygments_lexer": "ipython3",
   "version": "3.7.6"
  }
 },
 "nbformat": 4,
 "nbformat_minor": 4
}
